{
 "cells": [
  {
   "attachments": {},
   "cell_type": "markdown",
   "metadata": {},
   "source": [
    "# Background\n",
    "\n",
    "## Data Description\n",
    "\n",
    "Data Description:\n",
    "\n",
    "The data comes from direct marketing efforts of a European banking institution. The marketing campaign involves making a phone call to a customer, often multiple times to ensure a product subscription, in this case a term deposit. Term deposits are usually short-term deposits with maturities ranging from one month to a few years. The customer must understand when buying a term deposit that they can withdraw their funds only after the term ends. All customer information that might reveal personal information is removed due to privacy concerns.\n",
    "\n",
    "\n",
    "### Attributes:\n",
    "\n",
    "| Column\t|Description|\n",
    "|-|-|\n",
    "|age\t|Age of customer (numeric)|\n",
    "|job\t|Type of job (categorical)|\n",
    "|marital\t|Marital status (categorical)|\n",
    "|education\t|Education level (categorical)|\n",
    "|default\t|Has credit in default? (binary)|\n",
    "|balance\t|Average yearly balance, in euros (numeric)|\n",
    "|housing\t|Has a housing loan? (binary)|\n",
    "|loan\t|Has personal loan? (binary)|\n",
    "|contact\t|Contact communication type (categorical)|\n",
    "|day\t|Last contact day of the month (numeric)|\n",
    "|month\t|Last contact month of the year (categorical)|\n",
    "|duration\t|Last contact duration, in seconds (numeric)|\n",
    "|campaign\t|Number of contacts performed during this campaign and for this client (numeric, includes last contact)|\n",
    "\n",
    "### Output (desired target):\n",
    "\n",
    "$y$ - has the client subscribed to a term deposit? (binary)\n",
    "\n",
    "### Goal(s):\n",
    "\n",
    "- Predict if the customer will subscribe (yes/no) to a term deposit (variable y)\n",
    "- Find customers who are more likely to buy the investment product. Determine the segment(s) of customers our client should prioritize.\n",
    "- What makes the customers buy? \n",
    "\n",
    "\n",
    "### Success Metric(s):\n",
    "\n",
    "Hit %81 or above accuracy by evaluating with 5-fold cross validation and reporting the average performance score.\n"
   ]
  },
  {
   "cell_type": "code",
   "execution_count": 1,
   "metadata": {},
   "outputs": [],
   "source": [
    "import pandas as pd\n",
    "import matplotlib.pyplot as plt\n",
    "import os, sys\n",
    "import seaborn as sns"
   ]
  },
  {
   "cell_type": "code",
   "execution_count": 2,
   "metadata": {},
   "outputs": [],
   "source": [
    "csv_path = os.path.abspath(os.path.join(os.getcwd(), '..', 'data', 'raw', 'term-deposit-marketing-2020.csv'))"
   ]
  },
  {
   "attachments": {},
   "cell_type": "markdown",
   "metadata": {},
   "source": [
    "## Exploratory data analysis using, JupySQL, SQL queries and DuckDB\n",
    "\n",
    "**Note**\n",
    "\n",
    "The queries below asume the usage of JupySQL and Jupyter notebooks.\n",
    "\n",
    "Ensure the following are installed\n",
    "\n",
    "```\n",
    "duckdb-engine\n",
    "jupysql\n",
    "```"
   ]
  },
  {
   "cell_type": "code",
   "execution_count": 3,
   "metadata": {},
   "outputs": [],
   "source": [
    "%load_ext sql\n",
    "%sql duckdb:///:memory:"
   ]
  },
  {
   "cell_type": "code",
   "execution_count": 4,
   "metadata": {},
   "outputs": [
    {
     "name": "stdout",
     "output_type": "stream",
     "text": [
      "*  duckdb:///:memory:\n",
      "Done.\n"
     ]
    },
    {
     "data": {
      "text/html": [
       "<table>\n",
       "    <thead>\n",
       "        <tr>\n",
       "            <th>Count</th>\n",
       "        </tr>\n",
       "    </thead>\n",
       "    <tbody>\n",
       "        <tr>\n",
       "            <td>40000</td>\n",
       "        </tr>\n",
       "    </tbody>\n",
       "</table>"
      ],
      "text/plain": [
       "[(40000,)]"
      ]
     },
     "execution_count": 4,
     "metadata": {},
     "output_type": "execute_result"
    }
   ],
   "source": [
    "query = f\"\"\"\n",
    "CREATE TABLE term_deposit_marketing AS SELECT * FROM read_csv_auto('{csv_path}')\n",
    "\"\"\"\n",
    "\n",
    "%sql {{query}}\n"
   ]
  },
  {
   "cell_type": "code",
   "execution_count": 5,
   "metadata": {},
   "outputs": [
    {
     "name": "stdout",
     "output_type": "stream",
     "text": [
      "*  duckdb:///:memory:\n",
      "Done.\n"
     ]
    },
    {
     "data": {
      "text/html": [
       "<table>\n",
       "    <thead>\n",
       "        <tr>\n",
       "            <th>age</th>\n",
       "            <th>job</th>\n",
       "            <th>marital</th>\n",
       "            <th>education</th>\n",
       "            <th>default</th>\n",
       "            <th>balance</th>\n",
       "            <th>housing</th>\n",
       "            <th>loan</th>\n",
       "            <th>contact</th>\n",
       "            <th>day</th>\n",
       "            <th>month</th>\n",
       "            <th>duration</th>\n",
       "            <th>campaign</th>\n",
       "            <th>y</th>\n",
       "        </tr>\n",
       "    </thead>\n",
       "    <tbody>\n",
       "        <tr>\n",
       "            <td>58</td>\n",
       "            <td>management</td>\n",
       "            <td>married</td>\n",
       "            <td>tertiary</td>\n",
       "            <td>no</td>\n",
       "            <td>2143</td>\n",
       "            <td>yes</td>\n",
       "            <td>no</td>\n",
       "            <td>unknown</td>\n",
       "            <td>5</td>\n",
       "            <td>may</td>\n",
       "            <td>261</td>\n",
       "            <td>1</td>\n",
       "            <td>no</td>\n",
       "        </tr>\n",
       "        <tr>\n",
       "            <td>44</td>\n",
       "            <td>technician</td>\n",
       "            <td>single</td>\n",
       "            <td>secondary</td>\n",
       "            <td>no</td>\n",
       "            <td>29</td>\n",
       "            <td>yes</td>\n",
       "            <td>no</td>\n",
       "            <td>unknown</td>\n",
       "            <td>5</td>\n",
       "            <td>may</td>\n",
       "            <td>151</td>\n",
       "            <td>1</td>\n",
       "            <td>no</td>\n",
       "        </tr>\n",
       "        <tr>\n",
       "            <td>33</td>\n",
       "            <td>entrepreneur</td>\n",
       "            <td>married</td>\n",
       "            <td>secondary</td>\n",
       "            <td>no</td>\n",
       "            <td>2</td>\n",
       "            <td>yes</td>\n",
       "            <td>yes</td>\n",
       "            <td>unknown</td>\n",
       "            <td>5</td>\n",
       "            <td>may</td>\n",
       "            <td>76</td>\n",
       "            <td>1</td>\n",
       "            <td>no</td>\n",
       "        </tr>\n",
       "        <tr>\n",
       "            <td>47</td>\n",
       "            <td>blue-collar</td>\n",
       "            <td>married</td>\n",
       "            <td>unknown</td>\n",
       "            <td>no</td>\n",
       "            <td>1506</td>\n",
       "            <td>yes</td>\n",
       "            <td>no</td>\n",
       "            <td>unknown</td>\n",
       "            <td>5</td>\n",
       "            <td>may</td>\n",
       "            <td>92</td>\n",
       "            <td>1</td>\n",
       "            <td>no</td>\n",
       "        </tr>\n",
       "        <tr>\n",
       "            <td>33</td>\n",
       "            <td>unknown</td>\n",
       "            <td>single</td>\n",
       "            <td>unknown</td>\n",
       "            <td>no</td>\n",
       "            <td>1</td>\n",
       "            <td>no</td>\n",
       "            <td>no</td>\n",
       "            <td>unknown</td>\n",
       "            <td>5</td>\n",
       "            <td>may</td>\n",
       "            <td>198</td>\n",
       "            <td>1</td>\n",
       "            <td>no</td>\n",
       "        </tr>\n",
       "    </tbody>\n",
       "</table>"
      ],
      "text/plain": [
       "[(58, 'management', 'married', 'tertiary', 'no', 2143, 'yes', 'no', 'unknown', 5, 'may', 261, 1, 'no'),\n",
       " (44, 'technician', 'single', 'secondary', 'no', 29, 'yes', 'no', 'unknown', 5, 'may', 151, 1, 'no'),\n",
       " (33, 'entrepreneur', 'married', 'secondary', 'no', 2, 'yes', 'yes', 'unknown', 5, 'may', 76, 1, 'no'),\n",
       " (47, 'blue-collar', 'married', 'unknown', 'no', 1506, 'yes', 'no', 'unknown', 5, 'may', 92, 1, 'no'),\n",
       " (33, 'unknown', 'single', 'unknown', 'no', 1, 'no', 'no', 'unknown', 5, 'may', 198, 1, 'no')]"
      ]
     },
     "execution_count": 5,
     "metadata": {},
     "output_type": "execute_result"
    }
   ],
   "source": [
    "f5 = \"\"\"\n",
    "    SELECT * FROM term_deposit_marketing LIMIT 5;\n",
    "\"\"\"\n",
    "\n",
    "%sql {{f5}}"
   ]
  },
  {
   "attachments": {},
   "cell_type": "markdown",
   "metadata": {},
   "source": [
    "## Building the model"
   ]
  },
  {
   "cell_type": "code",
   "execution_count": 6,
   "metadata": {},
   "outputs": [],
   "source": [
    "import pandas as pd\n",
    "from sklearn.model_selection import train_test_split\n",
    "from sklearn.preprocessing import StandardScaler, OneHotEncoder\n",
    "from sklearn.compose import ColumnTransformer\n",
    "from sklearn.pipeline import Pipeline\n",
    "from sklearn.ensemble import RandomForestClassifier\n",
    "from sklearn.metrics import classification_report, accuracy_score\n",
    "from sklearn.model_selection import cross_val_score"
   ]
  },
  {
   "cell_type": "code",
   "execution_count": 7,
   "metadata": {},
   "outputs": [
    {
     "name": "stdout",
     "output_type": "stream",
     "text": [
      "*  duckdb:///:memory:\n",
      "Done.\n"
     ]
    }
   ],
   "source": [
    "full_data = %sql SELECT * FROM term_deposit_marketing;\n",
    "data = full_data.DataFrame()\n"
   ]
  },
  {
   "cell_type": "markdown",
   "metadata": {},
   "source": [
    "Preprocess the data"
   ]
  },
  {
   "cell_type": "code",
   "execution_count": 8,
   "metadata": {},
   "outputs": [],
   "source": [
    "# Prepare target variable\n",
    "data['y'] = data['y'].apply(lambda x: 1 if x == 'yes' else 0)\n",
    "\n",
    "# Define feature columns and target column\n",
    "X = data.drop(columns=['y'])\n",
    "y = data['y']"
   ]
  },
  {
   "attachments": {},
   "cell_type": "markdown",
   "metadata": {},
   "source": [
    "Split the data into training and testing datasets"
   ]
  },
  {
   "cell_type": "code",
   "execution_count": 9,
   "metadata": {},
   "outputs": [],
   "source": [
    "X_train, X_test, y_train, y_test = train_test_split(X, y, test_size=0.3, random_state=42)"
   ]
  },
  {
   "attachments": {},
   "cell_type": "markdown",
   "metadata": {},
   "source": [
    "Create a preprocessing pipeline"
   ]
  },
  {
   "cell_type": "code",
   "execution_count": 10,
   "metadata": {},
   "outputs": [],
   "source": [
    "# Identify categorical and numerical columns\n",
    "categorical_cols = X.select_dtypes(include=['object']).columns.tolist()\n",
    "numerical_cols = X.select_dtypes(exclude=['object']).columns.tolist()\n",
    "\n",
    "# Define transformers for categorical and numerical columns\n",
    "categorical_transformer = OneHotEncoder(handle_unknown='ignore')\n",
    "numerical_transformer = StandardScaler()\n",
    "\n",
    "# Create a column transformer\n",
    "preprocessor = ColumnTransformer(\n",
    "    transformers=[\n",
    "        ('num', numerical_transformer, numerical_cols),\n",
    "        ('cat', categorical_transformer, categorical_cols)\n",
    "    ])"
   ]
  },
  {
   "attachments": {},
   "cell_type": "markdown",
   "metadata": {},
   "source": [
    "Create a pipeline and fit the model"
   ]
  },
  {
   "cell_type": "code",
   "execution_count": 11,
   "metadata": {},
   "outputs": [],
   "source": [
    "# Create a pipeline with preprocessing and RandomForestClassifier\n",
    "pipeline = Pipeline(steps=[('preprocessor', preprocessor),\n",
    "                           ('classifier', RandomForestClassifier(random_state=42))])\n",
    "\n",
    "# Perform 5-fold cross-validation\n",
    "cv_scores = cross_val_score(pipeline, X, y, cv=5, scoring='accuracy')\n",
    "\n",
    "# Calculate the average accuracy\n",
    "avg_accuracy = cv_scores.mean()\n",
    "\n",
    "print(\"5-fold Cross-validation Accuracy:\", avg_accuracy)\n",
    "\n",
    "success_metric = 0.81\n",
    "\n",
    "if avg_accuracy >= success_metric:\n",
    "    print(\"Success: The average accuracy is above or equal to the success metric.\")\n",
    "else:\n",
    "    print(\"Failure: The average accuracy is below the success metric.\")\n"
   ]
  },
  {
   "attachments": {},
   "cell_type": "markdown",
   "metadata": {},
   "source": [
    "Make predictions and evaluate"
   ]
  },
  {
   "cell_type": "code",
   "execution_count": null,
   "metadata": {},
   "outputs": [],
   "source": [
    "# Fit the model\n",
    "pipeline.fit(X_train, y_train)"
   ]
  },
  {
   "cell_type": "code",
   "execution_count": null,
   "metadata": {},
   "outputs": [],
   "source": [
    "# Make predictions on the test set\n",
    "y_pred = pipeline.predict(X_test)\n",
    "\n",
    "# Evaluate the model\n",
    "print(\"Accuracy:\", accuracy_score(y_test, y_pred))\n",
    "print(\"Classification Report:\\n\", classification_report(y_test, y_pred))\n"
   ]
  },
  {
   "cell_type": "code",
   "execution_count": null,
   "metadata": {},
   "outputs": [],
   "source": []
  }
 ],
 "metadata": {
  "kernelspec": {
   "display_name": "apziva-1",
   "language": "python",
   "name": "python3"
  },
  "language_info": {
   "codemirror_mode": {
    "name": "ipython",
    "version": 3
   },
   "file_extension": ".py",
   "mimetype": "text/x-python",
   "name": "python",
   "nbconvert_exporter": "python",
   "pygments_lexer": "ipython3",
   "version": "3.9.0"
  },
  "orig_nbformat": 4
 },
 "nbformat": 4,
 "nbformat_minor": 2
}
